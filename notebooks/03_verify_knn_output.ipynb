{
 "cells": [
  {
   "cell_type": "code",
   "execution_count": null,
   "id": "0",
   "metadata": {},
   "outputs": [],
   "source": [
    "import os, pathlib, sys\n",
    "REPO_ROOT = pathlib.Path.cwd().parent\n",
    "os.chdir(REPO_ROOT)           # move from notebooks/ to repo root\n",
    "sys.path.insert(0, str(REPO_ROOT))"
   ]
  },
  {
   "cell_type": "code",
   "execution_count": null,
   "id": "1",
   "metadata": {},
   "outputs": [],
   "source": [
    "import numpy as np, pandas as pd\n",
    "from src.models.knn_recommender import recommend"
   ]
  },
  {
   "cell_type": "code",
   "execution_count": null,
   "id": "2",
   "metadata": {},
   "outputs": [],
   "source": [
    "seed = 2\n",
    "rec_ids, dists = recommend(seed, k=10)\n",
    "\n",
    "# Structural checks\n",
    "assert len(rec_ids) == 10\n",
    "assert len(set(rec_ids)) == 10             # no duplicates\n",
    "assert seed not in rec_ids                 # self not included\n",
    "assert all(dists[i] <= dists[i+1] for i in range(len(dists)-1))\n",
    "\n",
    "# Inspect metadata\n",
    "idx = pd.read_parquet(\"data/processed/fma_small_index.parquet\")\n",
    "meta = idx[idx.track_id.isin(rec_ids)][\n",
    "    [\"track_id\",\"artist_name\",\"track_title\",\"album_title\",\"track_genre_top\"]\n",
    "].copy()\n",
    "order = {tid:i for i,tid in enumerate(rec_ids)}\n",
    "meta[\"order\"] = meta[\"track_id\"].map(order)\n",
    "meta = meta.sort_values(\"order\").drop(columns=\"order\")\n",
    "print(meta.to_string(index=False))\n",
    "\n",
    "# Genre distribution sanity\n",
    "print(\"\\nGenre counts:\\n\", meta[\"track_genre_top\"].value_counts())\n",
    "\n",
    "# Optional: convert distances to cosine similarity for intuition\n",
    "cos_sim = [1 - d for d in dists]\n",
    "print(\"\\nCosine similarities:\", np.round(cos_sim, 3))"
   ]
  },
  {
   "cell_type": "code",
   "execution_count": null,
   "id": "3",
   "metadata": {},
   "outputs": [],
   "source": []
  }
 ],
 "metadata": {
  "kernelspec": {
   "display_name": ".venv",
   "language": "python",
   "name": "python3"
  },
  "language_info": {
   "codemirror_mode": {
    "name": "ipython",
    "version": 3
   },
   "file_extension": ".py",
   "mimetype": "text/x-python",
   "name": "python",
   "nbconvert_exporter": "python",
   "pygments_lexer": "ipython3",
   "version": "3.13.7"
  }
 },
 "nbformat": 4,
 "nbformat_minor": 5
}
