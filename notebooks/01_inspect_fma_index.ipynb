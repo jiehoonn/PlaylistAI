{
 "cells": [
  {
   "cell_type": "code",
   "execution_count": 2,
   "id": "891aaee3-61ff-4028-824b-5fe39d66942f",
   "metadata": {},
   "outputs": [],
   "source": [
    "import pandas as pd"
   ]
  },
  {
   "cell_type": "code",
   "execution_count": 3,
   "id": "4969277b-25b0-4c1a-977c-274dfb303fbf",
   "metadata": {},
   "outputs": [
    {
     "name": "stdout",
     "output_type": "stream",
     "text": [
      "Rows: 8000, Columns: ['track_genre_top', 'track_title', 'album_title', 'artist_name', 'track_date_created', 'track_genres_all', 'track_id', 'relpath', 'audio_path']\n",
      "  track_genre_top         track_title            album_title  \\\n",
      "0         Hip-Hop                Food   AWOL - A Way Of Life   \n",
      "1         Hip-Hop          This World   AWOL - A Way Of Life   \n",
      "2             Pop             Freeway      Constant Hitmaker   \n",
      "3            Folk  Queen Of The Wires         The Blind Spot   \n",
      "4            Folk                Ohio  Every Man For Himself   \n",
      "\n",
      "                       artist_name   track_date_created track_genres_all  \\\n",
      "0                             AWOL  2008-11-26 01:48:12             [21]   \n",
      "1                             AWOL  2008-11-26 01:48:20             [21]   \n",
      "2                        Kurt Vile  2008-11-25 17:49:06             [10]   \n",
      "3  Alec K. Redfearn & the Eyesores  2008-11-26 01:44:07             [17]   \n",
      "4  Alec K. Redfearn & the Eyesores  2008-11-26 01:44:10             [17]   \n",
      "\n",
      "   track_id         relpath                                         audio_path  \n",
      "0         2  000/000002.mp3  /Users/jiehoonlee/Desktop/Projects/Personal/Sp...  \n",
      "1         5  000/000005.mp3  /Users/jiehoonlee/Desktop/Projects/Personal/Sp...  \n",
      "2        10  000/000010.mp3  /Users/jiehoonlee/Desktop/Projects/Personal/Sp...  \n",
      "3       140  000/000140.mp3  /Users/jiehoonlee/Desktop/Projects/Personal/Sp...  \n",
      "4       141  000/000141.mp3  /Users/jiehoonlee/Desktop/Projects/Personal/Sp...  \n"
     ]
    }
   ],
   "source": [
    "index_path = '../data/processed/fma_small_index.parquet'\n",
    "df = pd.read_parquet(index_path)\n",
    "\n",
    "print(f\"Rows: {len(df)}, Columns: {df.columns.tolist()}\")\n",
    "print(df.head())"
   ]
  },
  {
   "cell_type": "code",
   "execution_count": null,
   "id": "cefe3f8e-2a8f-4a27-b684-977ca4fa7433",
   "metadata": {},
   "outputs": [],
   "source": []
  }
 ],
 "metadata": {
  "kernelspec": {
   "display_name": "Python 3 (ipykernel)",
   "language": "python",
   "name": "python3"
  },
  "language_info": {
   "codemirror_mode": {
    "name": "ipython",
    "version": 3
   },
   "file_extension": ".py",
   "mimetype": "text/x-python",
   "name": "python",
   "nbconvert_exporter": "python",
   "pygments_lexer": "ipython3",
   "version": "3.13.7"
  }
 },
 "nbformat": 4,
 "nbformat_minor": 5
}
