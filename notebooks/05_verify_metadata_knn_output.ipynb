{
 "cells": [
  {
   "cell_type": "code",
   "execution_count": null,
   "id": "0",
   "metadata": {},
   "outputs": [],
   "source": [
    "import os, sys\n",
    "from pathlib import Path\n",
    "\n",
    "def chdir_to_repo_root():\n",
    "    p = Path.cwd()\n",
    "    while p != p.parent:\n",
    "        if (p / \"src\").exists() and (p / \"data\").exists():\n",
    "            os.chdir(p)\n",
    "            if str(p) not in sys.path:\n",
    "                sys.path.insert(0, str(p))\n",
    "            return p\n",
    "        p = p.parent\n",
    "    raise RuntimeError(\"Could not find repo root (looking for 'src' and 'data').\")\n",
    "\n",
    "ROOT = chdir_to_repo_root()\n",
    "print(\"CWD:\", ROOT)"
   ]
  },
  {
   "cell_type": "code",
   "execution_count": null,
   "id": "1",
   "metadata": {},
   "outputs": [],
   "source": [
    "import pandas as pd\n",
    "from pathlib import Path\n",
    "from src.models.knn_recommender import recommend_hybrid, META_PATH"
   ]
  },
  {
   "cell_type": "code",
   "execution_count": null,
   "id": "2",
   "metadata": {},
   "outputs": [],
   "source": [
    "import pandas as pd\n",
    "from src.models.knn_recommender import META_PATH\n",
    "\n",
    "m = pd.read_parquet(META_PATH)\n",
    "print(\"columns:\", sorted(m.columns.tolist())[:50])\n",
    "print(\"tempo-like:\", [c for c in m.columns if \"tempo\" in c.lower()])"
   ]
  },
  {
   "cell_type": "code",
   "execution_count": null,
   "id": "3",
   "metadata": {},
   "outputs": [],
   "source": [
    "import pandas as pd\n",
    "from src.models.knn_recommender import META_PATH\n",
    "m = pd.read_parquet(META_PATH)\n",
    "print(sorted([c for c in m.columns if c in {\n",
    "    \"tempo\",\"key\",\"mode\",\"time_signature\",\"energy\",\"danceability\",\"valence\",\n",
    "    \"loudness\",\"acousticness\",\"instrumentalness\"\n",
    "}]))"
   ]
  },
  {
   "cell_type": "code",
   "execution_count": null,
   "id": "4",
   "metadata": {},
   "outputs": [],
   "source": [
    "import os, pandas as pd\n",
    "from pathlib import Path\n",
    "from src.config import settings\n",
    "\n",
    "p = settings.FMA_METADATA_DIR / \"echonest.csv\"\n",
    "en = pd.read_csv(p, index_col=0, low_memory=False)\n",
    "print(\"RAW sample columns:\", en.columns[:25].tolist(), \" ... (total:\", len(en.columns), \")\")\n",
    "\n",
    "en_norm = en.copy()\n",
    "en_norm.columns = (\n",
    "    en_norm.columns.str.strip().str.lower()\n",
    "    .str.replace(r\"[^a-z0-9]+\",\"_\", regex=True)\n",
    "    .str.replace(r\"^(echonest_|audio_features_|audio_)\", \"\", regex=True)\n",
    "    .str.replace(r\"_$\", \"\", regex=True)\n",
    ")\n",
    "print(\"NORM sample columns:\", en_norm.columns[:25].tolist())\n",
    "\n",
    "for kw in [\"tempo\",\"key\",\"mode\",\"time_signature\",\"energy\",\"dance\",\"valence\",\"loud\",\"acoustic\",\"instrumental\"]:\n",
    "    hits = [c for c in en_norm.columns if kw in c]\n",
    "    print(f\"{kw:>14} ->\", hits[:10])"
   ]
  },
  {
   "cell_type": "code",
   "execution_count": null,
   "id": "5",
   "metadata": {},
   "outputs": [],
   "source": [
    "import pandas as pd\n",
    "from src.models.knn_recommender import META_PATH\n",
    "m = pd.read_parquet(META_PATH)\n",
    "print(sorted([c for c in m.columns if c in {\n",
    "    \"tempo\",\"key\",\"mode\",\"time_signature\",\"energy\",\"danceability\",\"valence\",\n",
    "    \"loudness\",\"acousticness\",\"instrumentalness\"\n",
    "}]))\n",
    "print(\"tempo non-null:\", m[\"tempo\"].notna().sum() if \"tempo\" in m.columns else 0)"
   ]
  },
  {
   "cell_type": "code",
   "execution_count": null,
   "id": "6",
   "metadata": {},
   "outputs": [],
   "source": [
    "from pathlib import Path\n",
    "import pandas as pd\n",
    "from src.models.knn_recommender import META_PATH, ROOT\n",
    "\n",
    "meta_path = META_PATH\n",
    "feats_path = ROOT / \"data/processed/fma_small_feats_v2.parquet\"\n",
    "\n",
    "m = pd.read_parquet(meta_path)                       # has track_id as a column\n",
    "f = pd.read_parquet(feats_path)[[\"track_id\", \"feature\"]].copy()\n",
    "\n",
    "# extract tempo from the last element of the 61-D vector\n",
    "f[\"tempo_feat\"] = f[\"feature\"].apply(\n",
    "    lambda v: float(v[-1]) if isinstance(v, (list, tuple)) and len(v) > 0 else None\n",
    ")\n",
    "f = f.drop(columns=[\"feature\"])\n",
    "\n",
    "# left-merge on track_id, prefer existing tempo but fill from tempo_feat\n",
    "m = m.merge(f, on=\"track_id\", how=\"left\")\n",
    "if \"tempo\" not in m.columns:\n",
    "    m[\"tempo\"] = None\n",
    "m[\"tempo\"] = m[\"tempo\"].fillna(m[\"tempo_feat\"])\n",
    "m = m.drop(columns=[\"tempo_feat\"])\n",
    "\n",
    "# save back\n",
    "m.to_parquet(meta_path, index=False)\n",
    "\n",
    "# sanity\n",
    "print(\"tempo non-null after backfill:\", m[\"tempo\"].notna().sum(), \"of\", len(m))"
   ]
  },
  {
   "cell_type": "code",
   "execution_count": null,
   "id": "7",
   "metadata": {},
   "outputs": [],
   "source": [
    "from pathlib import Path\n",
    "import numpy as np\n",
    "import pandas as pd\n",
    "from src.models.knn_recommender import META_PATH, ROOT\n",
    "\n",
    "meta_path  = META_PATH\n",
    "feats_path = ROOT / \"data/processed/fma_small_feats_v2.parquet\"\n",
    "\n",
    "m = pd.read_parquet(meta_path).copy()\n",
    "f = pd.read_parquet(feats_path)[[\"track_id\", \"feature\"]].copy()\n",
    "\n",
    "# extract tempo from the last element of the 61-D vector (ndarray/list/tuple)\n",
    "f[\"tempo_feat\"] = f[\"feature\"].apply(\n",
    "    lambda v: float(v[-1]) if isinstance(v, (list, tuple, np.ndarray)) and len(v) > 0 else np.nan\n",
    ")\n",
    "f = f.drop(columns=[\"feature\"])\n",
    "\n",
    "# ensure same dtype for merge\n",
    "m[\"track_id\"] = m[\"track_id\"].astype(int)\n",
    "f[\"track_id\"] = f[\"track_id\"].astype(int)\n",
    "\n",
    "# left-merge and fill\n",
    "m = m.merge(f, on=\"track_id\", how=\"left\")\n",
    "if \"tempo\" not in m.columns:\n",
    "    m[\"tempo\"] = np.nan\n",
    "m[\"tempo\"] = pd.to_numeric(m[\"tempo\"], errors=\"coerce\")\n",
    "m[\"tempo\"] = m[\"tempo\"].fillna(m[\"tempo_feat\"])\n",
    "m = m.drop(columns=[\"tempo_feat\"])\n",
    "\n",
    "# save & sanity\n",
    "m.to_parquet(meta_path, index=False)\n",
    "print(\"tempo non-null after backfill:\", m[\"tempo\"].notna().sum(), \"of\", len(m))\n",
    "print(m.loc[m[\"tempo\"].notna(), [\"track_id\",\"tempo\"]].head())"
   ]
  },
  {
   "cell_type": "code",
   "execution_count": null,
   "id": "8",
   "metadata": {},
   "outputs": [],
   "source": [
    "import pandas as pd\n",
    "from src.models.knn_recommender import META_PATH\n",
    "from src.models.knn_recommender import recommend_hybrid\n",
    "\n",
    "seed = 2\n",
    "rec_ids, scores = recommend_hybrid(seed, top=10)\n",
    "meta = pd.read_parquet(META_PATH).set_index(\"track_id\")\n",
    "seed_tempo = meta.loc[seed, \"tempo\"]\n",
    "print(\"seed tempo:\", seed_tempo)\n",
    "print(meta.loc[rec_ids, [\"artist_name\",\"track_title\",\"tempo\",\"year\"]])\n",
    "print(\"mean |tempo diff|:\", (meta.loc[rec_ids, \"tempo\"] - seed_tempo).abs().mean())"
   ]
  },
  {
   "cell_type": "code",
   "execution_count": null,
   "id": "9",
   "metadata": {},
   "outputs": [],
   "source": []
  }
 ],
 "metadata": {
  "kernelspec": {
   "display_name": ".venv",
   "language": "python",
   "name": "python3"
  },
  "language_info": {
   "codemirror_mode": {
    "name": "ipython",
    "version": 3
   },
   "file_extension": ".py",
   "mimetype": "text/x-python",
   "name": "python",
   "nbconvert_exporter": "python",
   "pygments_lexer": "ipython3",
   "version": "3.13.7"
  }
 },
 "nbformat": 4,
 "nbformat_minor": 5
}
