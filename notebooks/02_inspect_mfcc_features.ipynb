{
 "cells": [
  {
   "cell_type": "code",
   "execution_count": null,
   "id": "0",
   "metadata": {},
   "outputs": [],
   "source": [
    "import pandas as pd"
   ]
  },
  {
   "cell_type": "code",
   "execution_count": null,
   "id": "1",
   "metadata": {},
   "outputs": [],
   "source": [
    "# Load the MFCC feature file you just created\n",
    "feat_df = pd.read_parquet(\"../data/processed/fma_small_mfcc.parquet\")\n",
    "# 1. Check the number of rows \n",
    "print(\"Rows, Columns:\", feat_df.shape)\n",
    "# 2. Inspect the column names – should be 'track_id' and 'feature'\n",
    "print(\"Columns:\", feat_df.columns.tolist())\n",
    "# 3. Preview the first few rows\n",
    "print(feat_df.head())\n",
    "# 4. Confirm each 'feature' entry is a 26-length vector (13 MFCC means + 13 stds)\n",
    "lengths = feat_df[\"feature\"].apply(lambda x: len(x))\n",
    "print(\"Unique feature lengths:\", lengths.unique())  # should be array([26])\n",
    "# Optionally: check for any missing values\n",
    "print(\"Any null features:\", feat_df[\"feature\"].isnull().any())"
   ]
  },
  {
   "cell_type": "code",
   "execution_count": null,
   "id": "2",
   "metadata": {},
   "outputs": [],
   "source": [
    "import numpy as np\n",
    "from pathlib import Path"
   ]
  },
  {
   "cell_type": "code",
   "execution_count": null,
   "id": "3",
   "metadata": {},
   "outputs": [],
   "source": [
    "# Load your outputs\n",
    "idx_df = pd.read_parquet(\"../data/processed/fma_small_index.parquet\")\n",
    "feat_df = pd.read_parquet(\"../data/processed/fma_small_mfcc.parquet\")\n",
    "\n",
    "def show_mfcc_summary(track_id: int):\n",
    "    row = feat_df.loc[feat_df.track_id == track_id]\n",
    "    if row.empty:\n",
    "        print(f\"Track {track_id} not found or failed decoding.\")\n",
    "        return\n",
    "    v = np.array(row.iloc[0][\"feature\"])\n",
    "    means, stds = v[:13], v[13:]\n",
    "    print(f\"Track {track_id}\")\n",
    "    print(\"MFCC means (0..12):\")\n",
    "    for i, x in enumerate(means):\n",
    "        label = \"energy\" if i == 0 else (\"tilt\" if i == 1 else (\"curvature\" if i == 2 else \"detail\"))\n",
    "        print(f\"  mfcc[{i:2d}] ({label:9s}): {x: .3f}\")\n",
    "    print(\"MFCC stds (0..12):\")\n",
    "    for i, x in enumerate(stds):\n",
    "        print(f\"  std[{i:2d}]: {x: .3f}\")"
   ]
  },
  {
   "cell_type": "code",
   "execution_count": null,
   "id": "4",
   "metadata": {},
   "outputs": [],
   "source": [
    "show_mfcc_summary(2)"
   ]
  },
  {
   "cell_type": "code",
   "execution_count": null,
   "id": "5",
   "metadata": {},
   "outputs": [],
   "source": [
    "%pip install matplotlib"
   ]
  },
  {
   "cell_type": "code",
   "execution_count": null,
   "id": "6",
   "metadata": {},
   "outputs": [],
   "source": [
    "import librosa, librosa.display\n",
    "import matplotlib.pyplot as plt"
   ]
  },
  {
   "cell_type": "code",
   "execution_count": null,
   "id": "7",
   "metadata": {},
   "outputs": [],
   "source": [
    "def plot_track(track_id: int, sr=22050):\n",
    "    apath = idx_df.loc[idx_df.track_id == track_id, \"audio_path\"].iloc[0]\n",
    "    y, sr = librosa.load(apath, sr=sr, mono=True)\n",
    "    S = librosa.feature.melspectrogram(y=y, sr=sr, n_mels=128)\n",
    "    S_db = librosa.power_to_db(S, ref=np.max)\n",
    "    M = librosa.feature.mfcc(S=S_db, n_mfcc=13)\n",
    "\n",
    "    plt.figure(figsize=(10, 6))\n",
    "    plt.subplot(2,1,1)\n",
    "    librosa.display.specshow(S_db, sr=sr, x_axis='time', y_axis='mel')\n",
    "    plt.title(f\"Mel spectrogram — track {track_id}\")\n",
    "    plt.colorbar()\n",
    "    plt.subplot(2,1,2)\n",
    "    librosa.display.specshow(M, x_axis='time')\n",
    "    plt.title(\"MFCCs (13)\")\n",
    "    plt.colorbar()\n",
    "    plt.tight_layout()\n",
    "    plt.show()"
   ]
  },
  {
   "cell_type": "code",
   "execution_count": null,
   "id": "8",
   "metadata": {},
   "outputs": [],
   "source": [
    "plot_track(2)"
   ]
  },
  {
   "cell_type": "code",
   "execution_count": null,
   "id": "9",
   "metadata": {},
   "outputs": [],
   "source": []
  }
 ],
 "metadata": {
  "kernelspec": {
   "display_name": ".venv",
   "language": "python",
   "name": "python3"
  },
  "language_info": {
   "codemirror_mode": {
    "name": "ipython",
    "version": 3
   },
   "file_extension": ".py",
   "mimetype": "text/x-python",
   "name": "python",
   "nbconvert_exporter": "python",
   "pygments_lexer": "ipython3",
   "version": "3.13.7"
  }
 },
 "nbformat": 4,
 "nbformat_minor": 5
}
