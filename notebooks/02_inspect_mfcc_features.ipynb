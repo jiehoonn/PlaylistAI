{
 "cells": [
  {
   "cell_type": "code",
   "execution_count": null,
   "id": "0",
   "metadata": {},
   "outputs": [],
   "source": [
    "import pandas as pd"
   ]
  },
  {
   "cell_type": "code",
   "execution_count": null,
   "id": "1",
   "metadata": {},
   "outputs": [],
   "source": [
    "# Load the MFCC feature file you just created\n",
    "feat_df = pd.read_parquet(\"../data/processed/fma_small_mfcc.parquet\")\n",
    "# 1. Check the number of rows \n",
    "print(\"Rows, Columns:\", feat_df.shape)\n",
    "# 2. Inspect the column names – should be 'track_id' and 'feature'\n",
    "print(\"Columns:\", feat_df.columns.tolist())\n",
    "# 3. Preview the first few rows\n",
    "print(feat_df.head())\n",
    "# 4. Confirm each 'feature' entry is a 26-length vector (13 MFCC means + 13 stds)\n",
    "lengths = feat_df[\"feature\"].apply(lambda x: len(x))\n",
    "print(\"Unique feature lengths:\", lengths.unique())  # should be array([26])\n",
    "# Optionally: check for any missing values\n",
    "print(\"Any null features:\", feat_df[\"feature\"].isnull().any())"
   ]
  },
  {
   "cell_type": "code",
   "execution_count": null,
   "id": "2",
   "metadata": {},
   "outputs": [],
   "source": []
  }
 ],
 "metadata": {
  "kernelspec": {
   "display_name": ".venv",
   "language": "python",
   "name": "python3"
  },
  "language_info": {
   "codemirror_mode": {
    "name": "ipython",
    "version": 3
   },
   "file_extension": ".py",
   "mimetype": "text/x-python",
   "name": "python",
   "nbconvert_exporter": "python",
   "pygments_lexer": "ipython3",
   "version": "3.13.7"
  }
 },
 "nbformat": 4,
 "nbformat_minor": 5
}
