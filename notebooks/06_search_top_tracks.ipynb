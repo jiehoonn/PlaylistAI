{
 "cells": [
  {
   "cell_type": "code",
   "execution_count": null,
   "id": "0",
   "metadata": {},
   "outputs": [],
   "source": [
    "import os, sys\n",
    "from pathlib import Path\n",
    "\n",
    "def chdir_to_repo_root():\n",
    "    p = Path.cwd()\n",
    "    while p != p.parent:\n",
    "        if (p / \"src\").exists() and (p / \"data\").exists():\n",
    "            os.chdir(p)\n",
    "            if str(p) not in sys.path:\n",
    "                sys.path.insert(0, str(p))\n",
    "            return p\n",
    "        p = p.parent\n",
    "    raise RuntimeError(\"Could not find repo root (looking for 'src' and 'data').\")\n",
    "\n",
    "ROOT = chdir_to_repo_root()\n",
    "print(\"CWD:\", ROOT)"
   ]
  },
  {
   "cell_type": "code",
   "execution_count": null,
   "id": "1",
   "metadata": {},
   "outputs": [],
   "source": [
    "import pandas as pd\n",
    "\n",
    "meta = pd.read_parquet(\"data/processed/fma_small_meta.parquet\")\n",
    "cols = [\"track_id\",\"artist_name\",\"track_title\",\"year\",\"genre_top\",\"listens\",\"favorites\"]\n",
    "print(\"Top by listens:\")\n",
    "display(meta.sort_values(\"listens\", ascending=False)[cols].head(20))\n",
    "\n",
    "print(\"\\nTop by favorites:\")\n",
    "display(meta.sort_values(\"favorites\", ascending=False)[cols].head(20))"
   ]
  },
  {
   "cell_type": "code",
   "execution_count": null,
   "id": "2",
   "metadata": {},
   "outputs": [],
   "source": [
    "import pandas as pd, subprocess, shlex\n",
    "from pathlib import Path\n",
    "\n",
    "idx = pd.read_parquet(\"data/processed/fma_small_index.parquet\")\n",
    "def play(track_id: int):\n",
    "    row = idx[idx.track_id == track_id].iloc[0]\n",
    "    print(f\"Playing: {row.artist_name} — {row.track_title}\\n{row.audio_path}\")\n",
    "    subprocess.run([\"afplay\", row.audio_path])\n",
    "\n",
    "play(57820)"
   ]
  },
  {
   "cell_type": "code",
   "execution_count": null,
   "id": "3",
   "metadata": {},
   "outputs": [],
   "source": []
  }
 ],
 "metadata": {
  "kernelspec": {
   "display_name": ".venv",
   "language": "python",
   "name": "python3"
  },
  "language_info": {
   "codemirror_mode": {
    "name": "ipython",
    "version": 3
   },
   "file_extension": ".py",
   "mimetype": "text/x-python",
   "name": "python",
   "nbconvert_exporter": "python",
   "pygments_lexer": "ipython3",
   "version": "3.13.7"
  }
 },
 "nbformat": 4,
 "nbformat_minor": 5
}
